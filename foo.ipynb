{
 "cells": [
  {
   "cell_type": "code",
   "execution_count": null,
   "id": "e5aee645-de36-4f93-b34c-4f1376114aab",
   "metadata": {},
   "outputs": [],
   "source": []
  }
 ],
 "metadata": {
  "kernelspec": {
   "display_name": "",
   "name": ""
  },
  "language_info": {
   "name": ""
  }
 },
 "nbformat": 4,
 "nbformat_minor": 5
}
