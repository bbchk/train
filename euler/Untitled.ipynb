{
 "cells": [
  {
   "cell_type": "code",
   "execution_count": 3,
   "id": "937d149c-01a5-4687-9f6d-0c89070ba887",
   "metadata": {},
   "outputs": [
    {
     "ename": "NoMethodError",
     "evalue": "undefined method `build_statement' for #<IRB::Irb: @context=#<IRB::Context:0x00007d92a86cd1b8>, @signal_status=:IN_IRB, @scanner=#<RubyLex:0x00007d92a6f80c30>>\n\n      @irb.context.evaluate(@irb.build_statement(code), 0)\n                                ^^^^^^^^^^^^^^^^",
     "output_type": "error",
     "traceback": [
      "\u001b[31mNoMethodError\u001b[0m: undefined method `build_statement' for #<IRB::Irb: @context=#<IRB::Context:0x00007d92a86cd1b8>, @signal_status=:IN_IRB, @scanner=#<RubyLex:0x00007d92a6f80c30>>\n\n      @irb.context.evaluate(@irb.build_statement(code), 0)\n                                ^^^^^^^^^^^^^^^^",
      "/home/bchk/.rvm/gems/ruby-3.1.2/gems/iruby-0.8.0/lib/iruby/backend.rb:60:in `eval'",
      "/home/bchk/.rvm/gems/ruby-3.1.2/gems/iruby-0.8.0/lib/iruby/backend.rb:16:in `eval'",
      "/home/bchk/.rvm/gems/ruby-3.1.2/gems/iruby-0.8.0/lib/iruby/kernel.rb:204:in `execute_request'",
      "/home/bchk/.rvm/gems/ruby-3.1.2/gems/iruby-0.8.0/lib/iruby/kernel.rb:139:in `dispatch'",
      "/home/bchk/.rvm/gems/ruby-3.1.2/gems/iruby-0.8.0/lib/iruby/kernel.rb:127:in `run'",
      "/home/bchk/.rvm/gems/ruby-3.1.2/gems/iruby-0.8.0/lib/iruby/kernel_app.rb:90:in `run_kernel'",
      "/home/bchk/.rvm/gems/ruby-3.1.2/gems/iruby-0.8.0/lib/iruby/kernel_app.rb:13:in `run'",
      "/home/bchk/.rvm/gems/ruby-3.1.2/gems/iruby-0.8.0/lib/iruby/application.rb:110:in `run'",
      "/home/bchk/.rvm/gems/ruby-3.1.2/gems/iruby-0.8.0/exe/iruby:7:in `<top (required)>'",
      "/home/bchk/.rvm/gems/ruby-3.1.2/bin/iruby:25:in `load'",
      "/home/bchk/.rvm/gems/ruby-3.1.2/bin/iruby:25:in `<main>'"
     ]
    }
   ],
   "source": [
    "puts \"\""
   ]
  }
 ],
 "metadata": {
  "kernelspec": {
   "display_name": "Ruby 3 (iruby kernel)",
   "language": "ruby",
   "name": "ruby3"
  },
  "language_info": {
   "file_extension": ".rb",
   "mimetype": "application/x-ruby",
   "name": "ruby",
   "version": "3.1.2"
  }
 },
 "nbformat": 4,
 "nbformat_minor": 5
}
